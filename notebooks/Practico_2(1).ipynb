{
 "cells": [
  {
   "cell_type": "markdown",
   "id": "26eebb5f",
   "metadata": {},
   "source": [
    "# Práctico: Estructuración de proyectos en Python + GitHub"
   ]
  },
  {
   "cell_type": "markdown",
   "id": "c942f1a9",
   "metadata": {},
   "source": [
    "### Objetivos:\n",
    "- Estructurar correctamente un proyecto Python.\n",
    "- Usar funciones con estructuras de control como `for` e `if`.\n",
    "- Ejecutar funciones desde un notebook en Google Colab.\n",
    "- Manejar repositorios con GitHub.\n"
   ]
  },
  {
   "cell_type": "markdown",
   "id": "872f5353",
   "metadata": {},
   "source": [
    "### Parte 1 – Estructura del proyecto\n",
    "\n",
    "Estructurar el proyecto así:\n",
    "\n",
    "```\n",
    "mi_proyecto/\n",
    "│\n",
    "├── README.md\n",
    "├── requirements.txt\n",
    "├── main.py\n",
    "├── .gitignore\n",
    "├── src/\n",
    "│   ├── __init__.py\n",
    "│   └── operaciones.py\n",
    "└── notebooks/\n",
    "    └── uso_funciones.ipynb\n",
    "```\n"
   ]
  },
  {
   "cell_type": "markdown",
   "id": "556fd1de",
   "metadata": {},
   "source": [
    "### Parte 2 – Función a desarrollar\n",
    "\n",
    "En `src/operaciones.py`, crear una función `filtrar_pares(lista)` que reciba una lista de números y devuelva solo los números pares.\n",
    "\n",
    "Usar un bucle `for` y una estructura `if` para resolverlo.\n",
    "\n",
    "```python\n",
    "def filtrar_pares(lista):\n",
    "    # tu código acá\n",
    "```\n",
    "\n",
    "En `main.py`, probar la función con una lista de ejemplo.\n",
    "\n",
    "En el notebook, importar y usar la función con otra lista.\n"
   ]
  },
  {
   "cell_type": "markdown",
   "id": "bf640212",
   "metadata": {},
   "source": [
    "### Parte 3 – GitHub + Colab\n",
    "\n",
    "- Inicializar un repositorio con `git init`.\n",
    "- Crear `.gitignore` para evitar subir archivos no deseados.\n",
    "- Subir el proyecto a GitHub.\n",
    "- Desde Google Colab:\n",
    "  - Clonar el repositorio.\n",
    "  - Ejecutar el notebook desde la carpeta clonada.\n",
    "  - Hacer cambios y subirlos con `git add`, `commit`, `push`.\n"
   ]
  },
  {
   "cell_type": "markdown",
   "id": "9ce4fe14",
   "metadata": {},
   "source": [
    "### Entregable\n",
    "\n",
    "- Link del repositorio GitHub.\n",
    "- El notebook funcional.\n",
    "- Código comentado en `operaciones.py`.\n",
    "- `README.md` explicando cómo probar el proyecto.\n"
   ]
  }
 ],
 "metadata": {
  "language_info": {
   "name": "python"
  }
 },
 "nbformat": 4,
 "nbformat_minor": 5
}
